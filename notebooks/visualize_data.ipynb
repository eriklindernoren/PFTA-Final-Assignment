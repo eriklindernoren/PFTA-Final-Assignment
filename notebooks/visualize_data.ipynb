{
 "cells": [
  {
   "cell_type": "markdown",
   "metadata": {},
   "source": [
    "### Imports"
   ]
  },
  {
   "cell_type": "code",
   "execution_count": null,
   "metadata": {},
   "outputs": [],
   "source": [
    "import pandas as pd\n",
    "import numpy as np\n",
    "import sys\n",
    "import os\n",
    "import math\n",
    "import matplotlib.pyplot as plt\n",
    "from terminaltables import AsciiTable\n",
    "\n",
    "from sklearn.preprocessing import normalize\n",
    "\n",
    "cmap = plt.get_cmap('viridis')\n",
    "\n",
    "PATH_TO_DATA = '../data'"
   ]
  },
  {
   "cell_type": "markdown",
   "metadata": {},
   "source": [
    "### Load dataset"
   ]
  },
  {
   "cell_type": "code",
   "execution_count": null,
   "metadata": {},
   "outputs": [],
   "source": [
    "assert os.path.exists('%s/dataset' % PATH_TO_DATA), \\\n",
    "    \"Please execute the notebook 'build_feature_set.ipynb' before running this notebook.\"\n",
    "\n",
    "dataset = pd.read_pickle('%s/dataset' % PATH_TO_DATA)"
   ]
  },
  {
   "cell_type": "markdown",
   "metadata": {},
   "source": [
    "### Display correlation matrix"
   ]
  },
  {
   "cell_type": "code",
   "execution_count": null,
   "metadata": {
    "scrolled": false
   },
   "outputs": [],
   "source": [
    "blog_i = list(dataset.columns).index(\"blog\")\n",
    "\n",
    "# Normalize the data\n",
    "dataset_norm = (dataset - dataset.mean()) / (dataset.max() - dataset.min())\n",
    "\n",
    "correlation_matrix = dataset_norm.corr().values.round(5)\n",
    "\n",
    "# Plot the correlation matrix\n",
    "fig = plt.figure(figsize=(14, 12))\n",
    "ax = fig.add_subplot(111)\n",
    "cax = ax.matshow(dataset_norm.corr(), cmap=cmap, interpolation='nearest')\n",
    "\n",
    "# Add title to matrix plot\n",
    "ax.set_title(\"Correlation Matrix\")\n",
    "ttl = ax.title\n",
    "ttl.set_position([.5, 1.1])\n",
    "\n",
    "# Add feature names to axises\n",
    "plt.xticks(range(dataset_norm.shape[1]), dataset_norm.columns, rotation=45)\n",
    "plt.yticks(range(dataset_norm.shape[1]), dataset_norm.columns)\n",
    "\n",
    "# Add color bar to the right of the matrix\n",
    "fig.colorbar(cax)\n",
    "plt.show()\n",
    "plt.close()\n",
    "\n",
    "# Extract the blog feature correlations\n",
    "target_corr = correlation_matrix[:, blog_i]\n",
    "\n",
    "print(\"Blog correlation:\")\n",
    "# Show feature table with correlations to blog articles\n",
    "table_data = [[\"Num.\", \"Feature\", \"Blog Correlation\"]]\n",
    "for i, col in enumerate(dataset.columns):\n",
    "    table_data.append([i, col, target_corr[i]])\n",
    "print (AsciiTable(table_data).table)\n",
    "print (\"\")\n",
    "\n",
    "\n",
    "# Extract the blog feature correlations\n",
    "target_corr_sorted = sorted(correlation_matrix[:, blog_i], key=abs, reverse=True)\n",
    "\n",
    "print (\"Ordered by highest absolute correlalation:\")\n",
    "# Show feature table with correlations to blog articles\n",
    "table_data = [[\"Num.\", \"Feature\", \"Blog Correlation\"]]\n",
    "for corr in target_corr_sorted:\n",
    "    i = np.argmax(target_corr == corr)\n",
    "    col = dataset.columns[i]\n",
    "    table_data.append([i, col, corr])\n",
    "print (AsciiTable(table_data).table)\n",
    "print (\"\")\n",
    "\n"
   ]
  },
  {
   "cell_type": "code",
   "execution_count": null,
   "metadata": {},
   "outputs": [],
   "source": [
    "# Find the features with highest blog correlation\n",
    "target_highest = np.argsort(target_corr)[::-1]\n",
    "\n",
    "colors = [cmap(i) for i in np.linspace(0, 1, len(target_highest)-1)][::-1]\n",
    "\n",
    "x_labels = [dataset.columns[i] for i in target_highest]\n",
    "\n",
    "plt.figure(figsize=(12, 8))\n",
    "plt.title(\"Feature correlation with Blog\")\n",
    "plt.bar(range(len(target_highest)-1), target_corr[target_highest][1:], color=colors)\n",
    "plt.xticks(range(len(dataset.columns)-1), x_labels[1:], rotation=45)\n",
    "plt.show()\n",
    "plt.close()"
   ]
  },
  {
   "cell_type": "markdown",
   "metadata": {},
   "source": [
    "### Compare feature values between distributions"
   ]
  },
  {
   "cell_type": "code",
   "execution_count": null,
   "metadata": {
    "scrolled": false
   },
   "outputs": [],
   "source": [
    "\n",
    "feature_names = [col for col in dataset.columns if col != \"blog\"]\n",
    "\n",
    "# Extract news and blog articles respectively\n",
    "news_articles = dataset[dataset['blog'] == 0][feature_names]\n",
    "blog_articles = dataset[dataset['blog'] == 1][feature_names]\n",
    "\n",
    "# Get mean values for each feature of each media type\n",
    "means = list(zip(news_articles.mean(axis=0), blog_articles.mean(axis=0)))\n",
    "    \n",
    "colors = [cmap(0.1), cmap(0.9)]\n",
    "\n",
    "# Plot grid\n",
    "n_cols = 4\n",
    "n_rows = math.ceil(len(feature_names)/n_cols)\n",
    "\n",
    "fw, fh = n_cols*3, n_rows*2\n",
    "fig, axes = plt.subplots(n_rows, n_cols, figsize=(fw, fh))\n",
    "fig.tight_layout()\n",
    "for i in range(len(feature_names)):\n",
    "    subplot = plt.subplot(n_rows, n_cols, i+1)\n",
    "    subplot.set_title(feature_names[i].capitalize())\n",
    "    subplot.bar((\"News\", \"Blog\"), means[i], color=colors) \n",
    "plt.tight_layout()\n",
    "plt.show()\n",
    "plt.close()\n"
   ]
  },
  {
   "cell_type": "code",
   "execution_count": null,
   "metadata": {},
   "outputs": [],
   "source": []
  }
 ],
 "metadata": {
  "kernelspec": {
   "display_name": "Python 3",
   "language": "python",
   "name": "python3"
  },
  "language_info": {
   "codemirror_mode": {
    "name": "ipython",
    "version": 3
   },
   "file_extension": ".py",
   "mimetype": "text/x-python",
   "name": "python",
   "nbconvert_exporter": "python",
   "pygments_lexer": "ipython3",
   "version": "3.6.3"
  }
 },
 "nbformat": 4,
 "nbformat_minor": 2
}
