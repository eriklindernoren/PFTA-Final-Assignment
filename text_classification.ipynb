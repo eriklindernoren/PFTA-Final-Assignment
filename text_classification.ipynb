{
 "cells": [
  {
   "cell_type": "markdown",
   "metadata": {},
   "source": [
    "### Imports"
   ]
  },
  {
   "cell_type": "code",
   "execution_count": 1,
   "metadata": {},
   "outputs": [],
   "source": [
    "import pandas as pd\n",
    "import numpy as np\n",
    "import sys\n",
    "import os\n",
    "import itertools\n",
    "import matplotlib.pyplot as plt\n",
    "from terminaltables import AsciiTable\n",
    "\n",
    "from sklearn.ensemble import RandomForestClassifier\n",
    "from sklearn.metrics import accuracy_score\n",
    "from sklearn.metrics import confusion_matrix\n",
    "from sklearn.metrics import classification_report\n",
    "from sklearn.model_selection import train_test_split\n",
    "from sklearn.preprocessing import normalize"
   ]
  },
  {
   "cell_type": "markdown",
   "metadata": {},
   "source": [
    "### Load datasets"
   ]
  },
  {
   "cell_type": "code",
   "execution_count": 2,
   "metadata": {},
   "outputs": [],
   "source": [
    "# Load feature set and target values\n",
    "dataset = pd.read_pickle('data/dataset')\n",
    "# Load corresponding articles\n",
    "articles = pd.read_pickle('data/articles')"
   ]
  },
  {
   "cell_type": "markdown",
   "metadata": {},
   "source": [
    "### Prepare data"
   ]
  },
  {
   "cell_type": "code",
   "execution_count": 3,
   "metadata": {},
   "outputs": [],
   "source": [
    "feature_names = [col for col in dataset.columns if col != 'blog']\n",
    "\n",
    "# Turn into numpy arrays\n",
    "X = normalize(dataset[feature_names].values)\n",
    "y = dataset['blog'].values.flatten()\n",
    "\n",
    "n = len(X)\n",
    "\n",
    "# Test set: 20% of total, randomly selected\n",
    "test_idx = np.random.choice(range(n), size=int(0.2*n), replace=False)\n",
    "train_idx = np.isin(np.arange(n), test_idx, invert=True)\n",
    "\n",
    "# Split the training and test sets\n",
    "X_train, X_test, y_train, y_test = X[train_idx], X[test_idx], y[train_idx], y[test_idx]"
   ]
  },
  {
   "cell_type": "markdown",
   "metadata": {},
   "source": [
    "### Classify"
   ]
  },
  {
   "cell_type": "code",
   "execution_count": 4,
   "metadata": {},
   "outputs": [
    {
     "name": "stdout",
     "output_type": "stream",
     "text": [
      "Test set accuracy: 75.52%\n",
      "\n",
      "             precision    recall  f1-score   support\n",
      "\n",
      "       News       0.75      0.74      0.75      1947\n",
      "       Blog       0.76      0.77      0.76      2053\n",
      "\n",
      "avg / total       0.76      0.76      0.76      4000\n",
      "\n"
     ]
    }
   ],
   "source": [
    "# Define classifier\n",
    "clf = RandomForestClassifier(n_estimators=100)\n",
    "\n",
    "# Fit - Train\n",
    "clf.fit(X_train, y_train)\n",
    "\n",
    "# Make a prediction on test set\n",
    "y_pred = clf.predict(X_test)\n",
    "\n",
    "# Measure the performance of the model\n",
    "print (\"Test set accuracy: %.2f%%\\n\" %  float(100*accuracy_score(y_test, y_pred)))\n",
    "\n",
    "print (classification_report(y_test, y_pred, target_names=['News', 'Blog']))\n"
   ]
  },
  {
   "cell_type": "markdown",
   "metadata": {},
   "source": [
    "### Save prediction results"
   ]
  },
  {
   "cell_type": "code",
   "execution_count": 5,
   "metadata": {},
   "outputs": [
    {
     "name": "stderr",
     "output_type": "stream",
     "text": [
      "/usr/local/lib/python3.6/site-packages/pandas/core/indexing.py:357: SettingWithCopyWarning: \n",
      "A value is trying to be set on a copy of a slice from a DataFrame.\n",
      "Try using .loc[row_indexer,col_indexer] = value instead\n",
      "\n",
      "See the caveats in the documentation: http://pandas.pydata.org/pandas-docs/stable/indexing.html#indexing-view-versus-copy\n",
      "  self.obj[key] = _infer_fill_value(value)\n",
      "/usr/local/lib/python3.6/site-packages/pandas/core/indexing.py:537: SettingWithCopyWarning: \n",
      "A value is trying to be set on a copy of a slice from a DataFrame.\n",
      "Try using .loc[row_indexer,col_indexer] = value instead\n",
      "\n",
      "See the caveats in the documentation: http://pandas.pydata.org/pandas-docs/stable/indexing.html#indexing-view-versus-copy\n",
      "  self.obj[item] = s\n"
     ]
    }
   ],
   "source": [
    "results = articles.iloc[test_idx]\n",
    "\n",
    "results.loc[y_test == 0, 'gold'] = 'News'\n",
    "results.loc[y_test == 1, 'gold'] = 'Blog'\n",
    "\n",
    "results.loc[y_pred == 0, 'prediction'] = 'News'\n",
    "results.loc[y_pred == 1, 'prediction'] = 'Blog'\n",
    "\n",
    "results = results[['id', 'gold', 'prediction']]\n",
    "\n",
    "results.to_csv('data/results.csv', index=False)\n"
   ]
  },
  {
   "cell_type": "markdown",
   "metadata": {},
   "source": [
    "### Plot confusion matrix"
   ]
  },
  {
   "cell_type": "code",
   "execution_count": 6,
   "metadata": {
    "scrolled": false
   },
   "outputs": [
    {
     "name": "stderr",
     "output_type": "stream",
     "text": [
      "/usr/local/lib/python3.6/site-packages/matplotlib/cbook/deprecation.py:106: MatplotlibDeprecationWarning: Adding an axes using the same arguments as a previous axes currently reuses the earlier instance.  In a future version, a new instance will always be created and returned.  Meanwhile, this warning can be suppressed, and the future behavior ensured, by passing a unique label to each axes instance.\n",
      "  warnings.warn(message, mplDeprecation, stacklevel=1)\n"
     ]
    },
    {
     "data": {
      "image/png": "[encoded data removed]",
      "text/plain": [
       "<matplotlib.figure.Figure at 0x103c71668>"
      ]
     },
     "metadata": {},
     "output_type": "display_data"
    }
   ],
   "source": [
    "\n",
    "cm = confusion_matrix(y_test, y_pred)\n",
    "cm_norm = cm.astype('float') / cm.sum(axis=1)[:, np.newaxis]\n",
    "\n",
    "fig = plt.figure(figsize=(8, 6))\n",
    "plt.title('Confusion Matrix')\n",
    "ax = fig.add_subplot(111)\n",
    "cax = ax.matshow(cm_norm, interpolation='none', cmap=plt.cm.Blues, vmin=0, vmax=np.max(cm_norm))\n",
    "ax.xaxis.tick_bottom()\n",
    "fig.colorbar(cax)\n",
    "\n",
    "thresh = cm_norm.max() / 2.\n",
    "for i, j in itertools.product(range(cm.shape[0]), range(cm.shape[1])):\n",
    "    plt.text(j, i, '%d (%.f%%)' % (cm[i,j], float(100*cm_norm[i,j])),\n",
    "             horizontalalignment='center',\n",
    "             color='white' if cm_norm[i, j] > thresh else 'black')\n",
    "\n",
    "plt.tight_layout()\n",
    "    \n",
    "plt.xlabel('Predicted')\n",
    "plt.ylabel('Ground Truth')\n",
    "plt.xticks(np.arange(2), ('News', 'Blog'), rotation=45)\n",
    "plt.yticks(np.arange(2), ('News', 'Blog'))\n",
    "\n",
    "plt.show()\n",
    "plt.close()"
   ]
  },
  {
   "cell_type": "code",
   "execution_count": null,
   "metadata": {},
   "outputs": [],
   "source": []
  }
 ],
 "metadata": {
  "kernelspec": {
   "display_name": "Python 3",
   "language": "python",
   "name": "python3"
  },
  "language_info": {
   "codemirror_mode": {
    "name": "ipython",
    "version": 3
   },
   "file_extension": ".py",
   "mimetype": "text/x-python",
   "name": "python",
   "nbconvert_exporter": "python",
   "pygments_lexer": "ipython3",
   "version": "3.6.3"
  }
 },
 "nbformat": 4,
 "nbformat_minor": 2
}
