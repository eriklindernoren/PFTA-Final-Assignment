{
 "cells": [
  {
   "cell_type": "markdown",
   "metadata": {},
   "source": [
    "### Imports"
   ]
  },
  {
   "cell_type": "code",
   "execution_count": 1,
   "metadata": {},
   "outputs": [],
   "source": [
    "import pandas as pd\n",
    "import numpy as np\n",
    "import sys\n",
    "import os\n",
    "from tqdm import tqdm\n",
    "import matplotlib.pyplot as plt\n",
    "from terminaltables import AsciiTable\n",
    "\n",
    "from sklearn.ensemble import RandomForestClassifier\n",
    "from sklearn.manifold import TSNE\n",
    "from sklearn.decomposition import PCA\n",
    "from sklearn.preprocessing import normalize\n",
    "from sklearn.model_selection import train_test_split\n",
    "from sklearn.metrics import accuracy_score, classification_report\n",
    "\n",
    "from sklearn.feature_extraction.text import CountVectorizer, TfidfTransformer\n",
    "\n",
    "cmap = plt.get_cmap('viridis')\n",
    "\n",
    "os.makedirs(\"data\", exist_ok=True)"
   ]
  },
  {
   "cell_type": "markdown",
   "metadata": {},
   "source": [
    "### Load dataset"
   ]
  },
  {
   "cell_type": "code",
   "execution_count": 2,
   "metadata": {},
   "outputs": [],
   "source": [
    "article_dataset = pd.read_pickle(\"data/articles\")"
   ]
  },
  {
   "cell_type": "markdown",
   "metadata": {},
   "source": [
    "### Extract article texts and targets (news or blog)"
   ]
  },
  {
   "cell_type": "code",
   "execution_count": 3,
   "metadata": {},
   "outputs": [
    {
     "name": "stderr",
     "output_type": "stream",
     "text": [
      "Extracting articles: 100%|██████████| 6000/6000 [00:03<00:00, 1973.28it/s]\n"
     ]
    }
   ],
   "source": [
    "articles = []\n",
    "targets = []\n",
    "\n",
    "target_encoding = {\n",
    "    \"News\": 0,\n",
    "    \"Blog\": 1\n",
    "}\n",
    "\n",
    "idxs = np.random.choice(range(article_dataset.shape[0]), size=6000, replace=False)\n",
    "\n",
    "for i in tqdm(idxs, desc=\"Extracting articles\"):\n",
    "    text = article_dataset.iloc[i][\"content\"]\n",
    "    articles.append(text)\n",
    "    \n",
    "    target_name = article_dataset.iloc[i][\"media-type\"]\n",
    "    target = target_encoding[target_name]\n",
    "    targets.append(target)\n",
    "    \n",
    "targets = np.array(targets)"
   ]
  },
  {
   "cell_type": "markdown",
   "metadata": {},
   "source": [
    "### Get token counts"
   ]
  },
  {
   "cell_type": "code",
   "execution_count": 4,
   "metadata": {},
   "outputs": [
    {
     "data": {
      "text/plain": [
       "(6000, 82443)"
      ]
     },
     "execution_count": 4,
     "metadata": {},
     "output_type": "execute_result"
    }
   ],
   "source": [
    "count_vect = CountVectorizer()\n",
    "X_counts = count_vect.fit_transform(articles)\n",
    "X_counts.shape"
   ]
  },
  {
   "cell_type": "markdown",
   "metadata": {},
   "source": [
    "### Get features"
   ]
  },
  {
   "cell_type": "code",
   "execution_count": 5,
   "metadata": {},
   "outputs": [
    {
     "name": "stdout",
     "output_type": "stream",
     "text": [
      "(6000, 82443)\n"
     ]
    }
   ],
   "source": [
    "tf_transformer = TfidfTransformer(use_idf=False).fit(X_counts)\n",
    "X_tf = tf_transformer.transform(X_counts)\n",
    "X = X_tf.toarray()\n",
    "print (X.shape)"
   ]
  },
  {
   "cell_type": "markdown",
   "metadata": {},
   "source": [
    "### Train / test split"
   ]
  },
  {
   "cell_type": "code",
   "execution_count": 6,
   "metadata": {},
   "outputs": [],
   "source": [
    "y = targets\n",
    "\n",
    "# Split the training and test sets\n",
    "X_train, X_test, y_train, y_test = train_test_split(X, y, test_size=0.2)"
   ]
  },
  {
   "cell_type": "markdown",
   "metadata": {},
   "source": [
    "### Classification"
   ]
  },
  {
   "cell_type": "code",
   "execution_count": 7,
   "metadata": {},
   "outputs": [
    {
     "name": "stdout",
     "output_type": "stream",
     "text": [
      "Test set accuracy: 76.25%\n",
      "\n",
      "             precision    recall  f1-score   support\n",
      "\n",
      "       News       0.78      0.75      0.76       611\n",
      "       Blog       0.75      0.77      0.76       589\n",
      "\n",
      "avg / total       0.76      0.76      0.76      1200\n",
      "\n"
     ]
    }
   ],
   "source": [
    "# Define classifier\n",
    "clf = RandomForestClassifier(n_estimators=100)\n",
    "\n",
    "# Fit - Train\n",
    "clf.fit(X_train, y_train)\n",
    "\n",
    "# Make a prediction on test set\n",
    "y_pred = clf.predict(X_test)\n",
    "\n",
    "# Measure the performance of the model\n",
    "print (\"Test set accuracy: %.2f%%\\n\" %  float(100*accuracy_score(y_test, y_pred)))\n",
    "\n",
    "print (classification_report(y_test, y_pred, target_names=[\"News\", \"Blog\"]))\n"
   ]
  },
  {
   "cell_type": "code",
   "execution_count": null,
   "metadata": {},
   "outputs": [],
   "source": []
  }
 ],
 "metadata": {
  "kernelspec": {
   "display_name": "Python 3",
   "language": "python",
   "name": "python3"
  },
  "language_info": {
   "codemirror_mode": {
    "name": "ipython",
    "version": 3
   },
   "file_extension": ".py",
   "mimetype": "text/x-python",
   "name": "python",
   "nbconvert_exporter": "python",
   "pygments_lexer": "ipython3",
   "version": "3.6.3"
  }
 },
 "nbformat": 4,
 "nbformat_minor": 2
}
